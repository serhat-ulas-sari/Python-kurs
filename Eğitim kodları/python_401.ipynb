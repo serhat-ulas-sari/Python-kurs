{
 "cells": [
  {
   "cell_type": "markdown",
   "id": "10f47f0e",
   "metadata": {},
   "source": [
    "# Nesne Yönelimli Programlama"
   ]
  },
  {
   "cell_type": "code",
   "execution_count": 1,
   "id": "fb102426",
   "metadata": {},
   "outputs": [],
   "source": [
    "class VeriBilimci():\n",
    "    calisanlar = []\n",
    "    def __init__(self):\n",
    "        self.bildiği_diller=[]\n",
    "        self.bölüm = ''\n",
    "    \n",
    "    def dil_ekle(self,yeni_dil):\n",
    "        self.bildiği_diller.append(yeni_dil)"
   ]
  },
  {
   "cell_type": "code",
   "execution_count": 2,
   "id": "73d1807b",
   "metadata": {},
   "outputs": [],
   "source": [
    "ali = VeriBilimci()"
   ]
  },
  {
   "cell_type": "code",
   "execution_count": 3,
   "id": "788a1082",
   "metadata": {},
   "outputs": [
    {
     "data": {
      "text/plain": [
       "[]"
      ]
     },
     "execution_count": 3,
     "metadata": {},
     "output_type": "execute_result"
    }
   ],
   "source": [
    "ali.bildiği_diller"
   ]
  },
  {
   "cell_type": "code",
   "execution_count": 4,
   "id": "946066fc",
   "metadata": {},
   "outputs": [
    {
     "data": {
      "text/plain": [
       "''"
      ]
     },
     "execution_count": 4,
     "metadata": {},
     "output_type": "execute_result"
    }
   ],
   "source": [
    "ali.bölüm"
   ]
  },
  {
   "cell_type": "code",
   "execution_count": 5,
   "id": "e1f8eb25",
   "metadata": {},
   "outputs": [],
   "source": [
    "ali.dil_ekle(\"R\")"
   ]
  },
  {
   "cell_type": "code",
   "execution_count": 6,
   "id": "a5f9c458",
   "metadata": {},
   "outputs": [
    {
     "data": {
      "text/plain": [
       "['R']"
      ]
     },
     "execution_count": 6,
     "metadata": {},
     "output_type": "execute_result"
    }
   ],
   "source": [
    "ali.bildiği_diller"
   ]
  },
  {
   "cell_type": "code",
   "execution_count": 7,
   "id": "817d0acf",
   "metadata": {},
   "outputs": [],
   "source": [
    "# inheritance ( miras)\n",
    "\n",
    "class Employees(object):\n",
    "    def __init__(self,FirstName,LastName,Adress):\n",
    "        self.FirstName=FirstName\n",
    "        self.LastName = LastName\n",
    "        self.Adress=Adress\n",
    "    \n",
    "\n",
    "class DataScience(Employees):\n",
    "    def __init__(self):\n",
    "        self.Programming=\"\"\n",
    "        \n",
    "class Marketing(Employees):\n",
    "    def __init__(self):\n",
    "        self.StoryTelling=\"\""
   ]
  },
  {
   "cell_type": "code",
   "execution_count": 8,
   "id": "e521c7af",
   "metadata": {},
   "outputs": [],
   "source": [
    "mar1 = Marketing()"
   ]
  },
  {
   "cell_type": "code",
   "execution_count": 9,
   "id": "fbd25bf7",
   "metadata": {},
   "outputs": [],
   "source": [
    "ali = Employees(\"serhat\",\"sari\",\"diyarbakır\")"
   ]
  },
  {
   "cell_type": "code",
   "execution_count": 10,
   "id": "6763d45e",
   "metadata": {},
   "outputs": [
    {
     "data": {
      "text/plain": [
       "'diyarbakır'"
      ]
     },
     "execution_count": 10,
     "metadata": {},
     "output_type": "execute_result"
    }
   ],
   "source": [
    "ali.Adress"
   ]
  },
  {
   "cell_type": "markdown",
   "id": "8dd32ae3",
   "metadata": {},
   "source": [
    "# Fonksiyonel Programlama\n",
    "\n",
    "- Fonksiyonlar dilin bastacidir\n",
    "- (Birincisi sinif nesnelerdir)\n",
    "- Yan etkisiz fonksiyonlar vardır(stateless,girdi-cikti)\n",
    "- Yuksek seviye fonksiyonlar\n",
    "- Vektorel operasyanlor"
   ]
  },
  {
   "cell_type": "code",
   "execution_count": 11,
   "id": "677c9188",
   "metadata": {},
   "outputs": [],
   "source": [
    "# Yan etkisiz fonksiyonlar (Pure functions)\n",
    "\n",
    "# Orne1 : Yan etki"
   ]
  },
  {
   "cell_type": "code",
   "execution_count": 12,
   "id": "bffa9e65",
   "metadata": {},
   "outputs": [],
   "source": [
    "A = 9\n",
    "def impure_sum(b):\n",
    "    return b+A"
   ]
  },
  {
   "cell_type": "code",
   "execution_count": 13,
   "id": "37cf9818",
   "metadata": {},
   "outputs": [],
   "source": [
    "def pure_sum(a,b):\n",
    "    return a+ b"
   ]
  },
  {
   "cell_type": "code",
   "execution_count": 14,
   "id": "599bc7cb",
   "metadata": {},
   "outputs": [
    {
     "data": {
      "text/plain": [
       "15"
      ]
     },
     "execution_count": 14,
     "metadata": {},
     "output_type": "execute_result"
    }
   ],
   "source": [
    "impure_sum(6)"
   ]
  },
  {
   "cell_type": "code",
   "execution_count": 15,
   "id": "d930e099",
   "metadata": {},
   "outputs": [
    {
     "data": {
      "text/plain": [
       "7"
      ]
     },
     "execution_count": 15,
     "metadata": {},
     "output_type": "execute_result"
    }
   ],
   "source": [
    "pure_sum(3,4)"
   ]
  },
  {
   "cell_type": "code",
   "execution_count": 16,
   "id": "0c314916",
   "metadata": {},
   "outputs": [],
   "source": [
    "#Ornek2 : Oluncul yan etkiler"
   ]
  },
  {
   "cell_type": "code",
   "execution_count": 17,
   "id": "aedb3e8c",
   "metadata": {},
   "outputs": [],
   "source": [
    "#oop\n",
    "class LineCounter:\n",
    "    def __init__(self,filename):\n",
    "        self.file=open(filename,'r')\n",
    "        self.lines = []\n",
    "    \n",
    "    def read(self):\n",
    "        self.lines = [line for line in self.file]\n",
    "    \n",
    "    def count(self):\n",
    "        return len(self.lines)"
   ]
  },
  {
   "cell_type": "code",
   "execution_count": 18,
   "id": "5963b2b5",
   "metadata": {},
   "outputs": [],
   "source": [
    "lc = LineCounter('metin.txt')"
   ]
  },
  {
   "cell_type": "code",
   "execution_count": 19,
   "id": "d171f2e2",
   "metadata": {},
   "outputs": [
    {
     "name": "stdout",
     "output_type": "stream",
     "text": [
      "[]\n"
     ]
    }
   ],
   "source": [
    "print(lc.lines)"
   ]
  },
  {
   "cell_type": "code",
   "execution_count": 20,
   "id": "0c19c0fc",
   "metadata": {},
   "outputs": [
    {
     "name": "stdout",
     "output_type": "stream",
     "text": [
      "0\n"
     ]
    }
   ],
   "source": [
    "print(lc.count())"
   ]
  },
  {
   "cell_type": "code",
   "execution_count": 21,
   "id": "f13fff64",
   "metadata": {},
   "outputs": [],
   "source": [
    "lc.read()"
   ]
  },
  {
   "cell_type": "code",
   "execution_count": 22,
   "id": "d8f0d4d3",
   "metadata": {},
   "outputs": [
    {
     "name": "stdout",
     "output_type": "stream",
     "text": [
      "['bu bir denemedir\\n', 'asda\\n', ' aÅŸdk,DF\\n', 'kad\\n']\n",
      "4\n"
     ]
    }
   ],
   "source": [
    "print(lc.lines)\n",
    "print(lc.count())"
   ]
  },
  {
   "cell_type": "code",
   "execution_count": 23,
   "id": "29eb80e3",
   "metadata": {},
   "outputs": [],
   "source": [
    "#FP\n",
    "\n",
    "def read(filename):\n",
    "    with open(filename,'r') as f:\n",
    "        return [line for line in f]\n",
    "    \n",
    "def count(lines):\n",
    "    return len(lines)"
   ]
  },
  {
   "cell_type": "code",
   "execution_count": 24,
   "id": "8b3389b2",
   "metadata": {},
   "outputs": [],
   "source": [
    "example_lines = read('metin.txt')"
   ]
  },
  {
   "cell_type": "code",
   "execution_count": 25,
   "id": "d6d91d53",
   "metadata": {},
   "outputs": [],
   "source": [
    "lines_count = count(example_lines)"
   ]
  },
  {
   "cell_type": "code",
   "execution_count": 26,
   "id": "9be7c3da",
   "metadata": {},
   "outputs": [
    {
     "data": {
      "text/plain": [
       "4"
      ]
     },
     "execution_count": 26,
     "metadata": {},
     "output_type": "execute_result"
    }
   ],
   "source": [
    "lines_count"
   ]
  },
  {
   "cell_type": "code",
   "execution_count": 27,
   "id": "7ff2cdd8",
   "metadata": {},
   "outputs": [],
   "source": [
    "# isimsiz fonksiyonlar(anonymos funtions)"
   ]
  },
  {
   "cell_type": "code",
   "execution_count": 28,
   "id": "50f46cbc",
   "metadata": {},
   "outputs": [],
   "source": [
    "def old_sum(a,b):\n",
    "    return a+b\n"
   ]
  },
  {
   "cell_type": "code",
   "execution_count": 29,
   "id": "50eb9e9a",
   "metadata": {},
   "outputs": [
    {
     "data": {
      "text/plain": [
       "9"
      ]
     },
     "execution_count": 29,
     "metadata": {},
     "output_type": "execute_result"
    }
   ],
   "source": [
    "old_sum(4,5)"
   ]
  },
  {
   "cell_type": "code",
   "execution_count": 30,
   "id": "2edbf2a9",
   "metadata": {},
   "outputs": [],
   "source": [
    "new_sum = lambda a,b: a + b"
   ]
  },
  {
   "cell_type": "code",
   "execution_count": 31,
   "id": "011086df",
   "metadata": {},
   "outputs": [
    {
     "data": {
      "text/plain": [
       "9"
      ]
     },
     "execution_count": 31,
     "metadata": {},
     "output_type": "execute_result"
    }
   ],
   "source": [
    "new_sum(4,5)"
   ]
  },
  {
   "cell_type": "code",
   "execution_count": 32,
   "id": "d3b51829",
   "metadata": {},
   "outputs": [],
   "source": [
    "sirasiz_liste = [('b',3),('a',8),('d',12),('c',1)]"
   ]
  },
  {
   "cell_type": "code",
   "execution_count": 33,
   "id": "3a364767",
   "metadata": {},
   "outputs": [
    {
     "data": {
      "text/plain": [
       "[('b', 3), ('a', 8), ('d', 12), ('c', 1)]"
      ]
     },
     "execution_count": 33,
     "metadata": {},
     "output_type": "execute_result"
    }
   ],
   "source": [
    "sirasiz_liste"
   ]
  },
  {
   "cell_type": "code",
   "execution_count": 34,
   "id": "985db74b",
   "metadata": {},
   "outputs": [
    {
     "data": {
      "text/plain": [
       "[('c', 1), ('b', 3), ('a', 8), ('d', 12)]"
      ]
     },
     "execution_count": 34,
     "metadata": {},
     "output_type": "execute_result"
    }
   ],
   "source": [
    "sorted(sirasiz_liste, key = lambda x:x[1])"
   ]
  },
  {
   "cell_type": "code",
   "execution_count": 35,
   "id": "b750c105",
   "metadata": {},
   "outputs": [],
   "source": [
    "# Vektorel Operasyonlar (Vectorel Operations)"
   ]
  },
  {
   "cell_type": "code",
   "execution_count": 36,
   "id": "bd5cb31e",
   "metadata": {},
   "outputs": [],
   "source": [
    "#oop\n",
    "a = [1,2,3,4]\n",
    "b = [2,3,4,5]"
   ]
  },
  {
   "cell_type": "code",
   "execution_count": 37,
   "id": "5a6f657e",
   "metadata": {},
   "outputs": [],
   "source": [
    "ab = []"
   ]
  },
  {
   "cell_type": "code",
   "execution_count": 38,
   "id": "6af0b9d7",
   "metadata": {},
   "outputs": [],
   "source": [
    "for i in range(0,len(a)):\n",
    "    ab.append(a[i]*b[i])\n",
    "    "
   ]
  },
  {
   "cell_type": "code",
   "execution_count": 39,
   "id": "deb98610",
   "metadata": {},
   "outputs": [
    {
     "data": {
      "text/plain": [
       "[2, 6, 12, 20]"
      ]
     },
     "execution_count": 39,
     "metadata": {},
     "output_type": "execute_result"
    }
   ],
   "source": [
    "ab"
   ]
  },
  {
   "cell_type": "code",
   "execution_count": 40,
   "id": "29ef27b3",
   "metadata": {},
   "outputs": [],
   "source": [
    "#FP\n",
    "import numpy as np "
   ]
  },
  {
   "cell_type": "code",
   "execution_count": 41,
   "id": "17af873c",
   "metadata": {},
   "outputs": [],
   "source": [
    "a = np.array([1,2,3,4])\n",
    "b = np.array([2,3,4,5])"
   ]
  },
  {
   "cell_type": "code",
   "execution_count": 42,
   "id": "fe9dc8c4",
   "metadata": {},
   "outputs": [
    {
     "data": {
      "text/plain": [
       "array([ 2,  6, 12, 20])"
      ]
     },
     "execution_count": 42,
     "metadata": {},
     "output_type": "execute_result"
    }
   ],
   "source": [
    "a*b"
   ]
  },
  {
   "cell_type": "code",
   "execution_count": 43,
   "id": "8503ed40",
   "metadata": {},
   "outputs": [],
   "source": [
    "#map & filter & redunce\n",
    "liste = [1,2,3,4,5]\n"
   ]
  },
  {
   "cell_type": "code",
   "execution_count": 44,
   "id": "3c387dda",
   "metadata": {},
   "outputs": [
    {
     "name": "stdout",
     "output_type": "stream",
     "text": [
      "11\n",
      "12\n",
      "13\n",
      "14\n",
      "15\n"
     ]
    }
   ],
   "source": [
    "for i in liste:\n",
    "    print(i+10)"
   ]
  },
  {
   "cell_type": "code",
   "execution_count": 45,
   "id": "9359f07f",
   "metadata": {},
   "outputs": [
    {
     "data": {
      "text/plain": [
       "[10, 20, 30, 40, 50]"
      ]
     },
     "execution_count": 45,
     "metadata": {},
     "output_type": "execute_result"
    }
   ],
   "source": [
    "list(map(lambda x:x*10,liste))"
   ]
  },
  {
   "cell_type": "code",
   "execution_count": 46,
   "id": "c781ed6c",
   "metadata": {},
   "outputs": [],
   "source": [
    "#filter\n",
    "\n",
    "liste = [1,2,3,4,5,6,7,8,9,10]"
   ]
  },
  {
   "cell_type": "code",
   "execution_count": 47,
   "id": "c5006fd1",
   "metadata": {},
   "outputs": [
    {
     "data": {
      "text/plain": [
       "[2, 4, 6, 8, 10]"
      ]
     },
     "execution_count": 47,
     "metadata": {},
     "output_type": "execute_result"
    }
   ],
   "source": [
    "list(filter(lambda x : x%2 == 0,liste))"
   ]
  },
  {
   "cell_type": "code",
   "execution_count": 48,
   "id": "a5d44af5",
   "metadata": {},
   "outputs": [],
   "source": [
    "# reduce \n",
    "from functools import reduce"
   ]
  },
  {
   "cell_type": "code",
   "execution_count": 49,
   "id": "3374bf4c",
   "metadata": {},
   "outputs": [],
   "source": [
    "liste = [1,2,3,4]"
   ]
  },
  {
   "cell_type": "code",
   "execution_count": 50,
   "id": "16b4d3f6",
   "metadata": {},
   "outputs": [
    {
     "data": {
      "text/plain": [
       "10"
      ]
     },
     "execution_count": 50,
     "metadata": {},
     "output_type": "execute_result"
    }
   ],
   "source": [
    "reduce(lambda a,b :a+b,liste)"
   ]
  },
  {
   "cell_type": "markdown",
   "id": "dbd65311",
   "metadata": {},
   "source": [
    "## MODUL OLUSTURMA"
   ]
  },
  {
   "cell_type": "code",
   "execution_count": 51,
   "id": "1f803c3c",
   "metadata": {},
   "outputs": [
    {
     "ename": "ZeroDivisionError",
     "evalue": "division by zero",
     "output_type": "error",
     "traceback": [
      "\u001b[1;31m---------------------------------------------------------------------------\u001b[0m",
      "\u001b[1;31mZeroDivisionError\u001b[0m                         Traceback (most recent call last)",
      "Input \u001b[1;32mIn [51]\u001b[0m, in \u001b[0;36m<cell line: 5>\u001b[1;34m()\u001b[0m\n\u001b[0;32m      2\u001b[0m a \u001b[38;5;241m=\u001b[39m \u001b[38;5;241m10\u001b[39m \n\u001b[0;32m      3\u001b[0m b \u001b[38;5;241m=\u001b[39m \u001b[38;5;241m0\u001b[39m \n\u001b[1;32m----> 5\u001b[0m \u001b[43ma\u001b[49m\u001b[38;5;241;43m/\u001b[39;49m\u001b[43mb\u001b[49m\n",
      "\u001b[1;31mZeroDivisionError\u001b[0m: division by zero"
     ]
    }
   ],
   "source": [
    "# hatalar / istisnalar\n",
    "a = 10 \n",
    "b = 0 \n",
    "\n",
    "a/b\n"
   ]
  },
  {
   "cell_type": "code",
   "execution_count": 52,
   "id": "a4d7d81b",
   "metadata": {},
   "outputs": [
    {
     "name": "stdout",
     "output_type": "stream",
     "text": [
      "payda da sifir olmaz\n"
     ]
    }
   ],
   "source": [
    "try:\n",
    "    print(a/b)\n",
    "except ZeroDivisionError:\n",
    "    print(\"payda da sifir olmaz\")"
   ]
  },
  {
   "cell_type": "code",
   "execution_count": 53,
   "id": "98958c77",
   "metadata": {},
   "outputs": [],
   "source": [
    "a = 10 \n",
    "b = \"2\""
   ]
  },
  {
   "cell_type": "code",
   "execution_count": 54,
   "id": "2f8bd1cb",
   "metadata": {
    "scrolled": true
   },
   "outputs": [
    {
     "name": "stdout",
     "output_type": "stream",
     "text": [
      "sayı yerine sitring var\n"
     ]
    }
   ],
   "source": [
    "\n",
    "try:\n",
    "    print(a/b)\n",
    "except TypeError :\n",
    "    print(\"sayı yerine sitring var\")"
   ]
  },
  {
   "cell_type": "code",
   "execution_count": 55,
   "id": "52aca508",
   "metadata": {},
   "outputs": [
    {
     "name": "stdout",
     "output_type": "stream",
     "text": [
      "2.0\n"
     ]
    }
   ],
   "source": [
    "a = 10 \n",
    "b = 5\n",
    "try:\n",
    "    print(a/b)\n",
    "except TypeError :\n",
    "    print(\"sayı yerine sitring var\")"
   ]
  }
 ],
 "metadata": {
  "kernelspec": {
   "display_name": "Python 3 (ipykernel)",
   "language": "python",
   "name": "python3"
  },
  "language_info": {
   "codemirror_mode": {
    "name": "ipython",
    "version": 3
   },
   "file_extension": ".py",
   "mimetype": "text/x-python",
   "name": "python",
   "nbconvert_exporter": "python",
   "pygments_lexer": "ipython3",
   "version": "3.9.12"
  }
 },
 "nbformat": 4,
 "nbformat_minor": 5
}
