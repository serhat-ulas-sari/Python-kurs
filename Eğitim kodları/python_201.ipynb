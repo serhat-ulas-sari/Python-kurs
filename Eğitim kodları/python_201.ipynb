{
 "cells": [
  {
   "attachments": {
    "image.png": {
     "image/png": "[encoded data removed]"
    }
   },
   "cell_type": "markdown",
   "id": "35536eac",
   "metadata": {},
   "source": [
    "# VERİ YAPILARI\n",
    "\n",
    "![image.png](attachment:image.png)"
   ]
  },
  {
   "cell_type": "markdown",
   "id": "7c3be3f6",
   "metadata": {},
   "source": [
    "# Listeler"
   ]
  },
  {
   "cell_type": "code",
   "execution_count": 1,
   "id": "7bd44c2c",
   "metadata": {},
   "outputs": [
    {
     "data": {
      "text/plain": [
       "list"
      ]
     },
     "execution_count": 1,
     "metadata": {},
     "output_type": "execute_result"
    }
   ],
   "source": [
    "#veri yapıları \n",
    "#listeler\n",
    "\n",
    "notlar = [90,80,70,50]\n",
    "type(notlar)"
   ]
  },
  {
   "cell_type": "code",
   "execution_count": 2,
   "id": "59b4c6d6",
   "metadata": {},
   "outputs": [],
   "source": [
    "liste = [\"a\",90,19.3]\n",
    "liste_genis=[\"a\",90,19.3,notlar]"
   ]
  },
  {
   "cell_type": "code",
   "execution_count": 3,
   "id": "7f1b7e48",
   "metadata": {},
   "outputs": [
    {
     "data": {
      "text/plain": [
       "list"
      ]
     },
     "execution_count": 3,
     "metadata": {},
     "output_type": "execute_result"
    }
   ],
   "source": [
    "type(liste_genis)"
   ]
  },
  {
   "cell_type": "code",
   "execution_count": 4,
   "id": "297eea85",
   "metadata": {},
   "outputs": [
    {
     "data": {
      "text/plain": [
       "[90, 80, 70, 50]"
      ]
     },
     "execution_count": 4,
     "metadata": {},
     "output_type": "execute_result"
    }
   ],
   "source": [
    "liste_genis[3]"
   ]
  },
  {
   "cell_type": "code",
   "execution_count": 5,
   "id": "5c52eb4f",
   "metadata": {},
   "outputs": [
    {
     "data": {
      "text/plain": [
       "90"
      ]
     },
     "execution_count": 5,
     "metadata": {},
     "output_type": "execute_result"
    }
   ],
   "source": [
    "liste_genis[1]"
   ]
  },
  {
   "cell_type": "code",
   "execution_count": 6,
   "id": "6b9a3d08",
   "metadata": {},
   "outputs": [
    {
     "data": {
      "text/plain": [
       "'a'"
      ]
     },
     "execution_count": 6,
     "metadata": {},
     "output_type": "execute_result"
    }
   ],
   "source": [
    "liste_genis[0]"
   ]
  },
  {
   "cell_type": "code",
   "execution_count": 7,
   "id": "e30aaf0e",
   "metadata": {},
   "outputs": [
    {
     "data": {
      "text/plain": [
       "str"
      ]
     },
     "execution_count": 7,
     "metadata": {},
     "output_type": "execute_result"
    }
   ],
   "source": [
    "type(liste_genis[0])"
   ]
  },
  {
   "cell_type": "code",
   "execution_count": 8,
   "id": "039de0d0",
   "metadata": {},
   "outputs": [],
   "source": [
    "tum_liste =[liste,liste_genis]"
   ]
  },
  {
   "cell_type": "code",
   "execution_count": 9,
   "id": "80e15e20",
   "metadata": {},
   "outputs": [
    {
     "name": "stdout",
     "output_type": "stream",
     "text": [
      "[['a', 90, 19.3], ['a', 90, 19.3, [90, 80, 70, 50]]]\n"
     ]
    }
   ],
   "source": [
    "print(tum_liste)"
   ]
  },
  {
   "cell_type": "code",
   "execution_count": 10,
   "id": "97b5eb28",
   "metadata": {},
   "outputs": [],
   "source": [
    "liste1 = [20,30,40,60]"
   ]
  },
  {
   "cell_type": "code",
   "execution_count": 11,
   "id": "88cdd8ba",
   "metadata": {},
   "outputs": [
    {
     "data": {
      "text/plain": [
       "[20, 30, 40]"
      ]
     },
     "execution_count": 11,
     "metadata": {},
     "output_type": "execute_result"
    }
   ],
   "source": [
    "liste1[0:-1]"
   ]
  },
  {
   "cell_type": "code",
   "execution_count": 12,
   "id": "acf8fccc",
   "metadata": {},
   "outputs": [
    {
     "data": {
      "text/plain": [
       "[20, 30]"
      ]
     },
     "execution_count": 12,
     "metadata": {},
     "output_type": "execute_result"
    }
   ],
   "source": [
    "liste1[:2]"
   ]
  },
  {
   "cell_type": "code",
   "execution_count": 13,
   "id": "18a49e43",
   "metadata": {},
   "outputs": [
    {
     "data": {
      "text/plain": [
       "[40, 60]"
      ]
     },
     "execution_count": 13,
     "metadata": {},
     "output_type": "execute_result"
    }
   ],
   "source": [
    "liste1[2:]"
   ]
  },
  {
   "cell_type": "code",
   "execution_count": 14,
   "id": "7d3bcebd",
   "metadata": {},
   "outputs": [],
   "source": [
    "yeni_liste = [\"a\",10,[20,30,40,50]]"
   ]
  },
  {
   "cell_type": "code",
   "execution_count": 15,
   "id": "45e24da0",
   "metadata": {},
   "outputs": [
    {
     "data": {
      "text/plain": [
       "[20, 30, 40, 50]"
      ]
     },
     "execution_count": 15,
     "metadata": {},
     "output_type": "execute_result"
    }
   ],
   "source": [
    "yeni_liste[2]"
   ]
  },
  {
   "cell_type": "code",
   "execution_count": 16,
   "id": "7f0f0404",
   "metadata": {},
   "outputs": [
    {
     "data": {
      "text/plain": [
       "50"
      ]
     },
     "execution_count": 16,
     "metadata": {},
     "output_type": "execute_result"
    }
   ],
   "source": [
    "yeni_liste[2][3]"
   ]
  },
  {
   "cell_type": "code",
   "execution_count": 17,
   "id": "450d46e9",
   "metadata": {},
   "outputs": [],
   "source": [
    "isim_listesi=[\"ali\",\"veli\",\"berkecan\",\"eyse\"]\n"
   ]
  },
  {
   "cell_type": "code",
   "execution_count": 18,
   "id": "9a4cd176",
   "metadata": {},
   "outputs": [
    {
     "data": {
      "text/plain": [
       "['ali', 'veli', 'berkecan', 'eyse']"
      ]
     },
     "execution_count": 18,
     "metadata": {},
     "output_type": "execute_result"
    }
   ],
   "source": [
    "isim_listesi"
   ]
  },
  {
   "cell_type": "code",
   "execution_count": 19,
   "id": "f491dcff",
   "metadata": {},
   "outputs": [],
   "source": [
    "isim_listesi[1]=\"velinin_babası\""
   ]
  },
  {
   "cell_type": "code",
   "execution_count": 20,
   "id": "7fb5e63c",
   "metadata": {},
   "outputs": [
    {
     "data": {
      "text/plain": [
       "['ali', 'velinin_babası', 'berkecan', 'eyse']"
      ]
     },
     "execution_count": 20,
     "metadata": {},
     "output_type": "execute_result"
    }
   ],
   "source": [
    "isim_listesi"
   ]
  },
  {
   "cell_type": "code",
   "execution_count": 21,
   "id": "42cb352a",
   "metadata": {},
   "outputs": [],
   "source": [
    "isim_listesi[0:3] = \"alinin_babası\",\"velinin_babası\",\"berkecanın_babası\""
   ]
  },
  {
   "cell_type": "code",
   "execution_count": 22,
   "id": "c5edce42",
   "metadata": {},
   "outputs": [
    {
     "data": {
      "text/plain": [
       "['alinin_babası', 'velinin_babası', 'berkecanın_babası', 'eyse']"
      ]
     },
     "execution_count": 22,
     "metadata": {},
     "output_type": "execute_result"
    }
   ],
   "source": [
    "isim_listesi"
   ]
  },
  {
   "cell_type": "code",
   "execution_count": 23,
   "id": "f7c7114a",
   "metadata": {},
   "outputs": [],
   "source": [
    "isim_listesi=[\"ali\",\"veli\",\"berkecan\",\"eyse\"]\n"
   ]
  },
  {
   "cell_type": "code",
   "execution_count": 24,
   "id": "77a25ccb",
   "metadata": {},
   "outputs": [],
   "source": [
    "isim_listesi = isim_listesi + [\"kemal\"]"
   ]
  },
  {
   "cell_type": "code",
   "execution_count": 25,
   "id": "8eb3e548",
   "metadata": {},
   "outputs": [
    {
     "data": {
      "text/plain": [
       "['ali', 'veli', 'berkecan', 'eyse', 'kemal']"
      ]
     },
     "execution_count": 25,
     "metadata": {},
     "output_type": "execute_result"
    }
   ],
   "source": [
    "isim_listesi"
   ]
  },
  {
   "cell_type": "code",
   "execution_count": 26,
   "id": "d9687dc2",
   "metadata": {},
   "outputs": [],
   "source": [
    "del isim_listesi[2]"
   ]
  },
  {
   "cell_type": "code",
   "execution_count": 27,
   "id": "b6eebc01",
   "metadata": {},
   "outputs": [
    {
     "data": {
      "text/plain": [
       "['ali', 'veli', 'eyse', 'kemal']"
      ]
     },
     "execution_count": 27,
     "metadata": {},
     "output_type": "execute_result"
    }
   ],
   "source": [
    "isim_listesi"
   ]
  },
  {
   "cell_type": "code",
   "execution_count": 28,
   "id": "c619402c",
   "metadata": {},
   "outputs": [
    {
     "data": {
      "text/plain": [
       "['__add__',\n",
       " '__class__',\n",
       " '__class_getitem__',\n",
       " '__contains__',\n",
       " '__delattr__',\n",
       " '__delitem__',\n",
       " '__dir__',\n",
       " '__doc__',\n",
       " '__eq__',\n",
       " '__format__',\n",
       " '__ge__',\n",
       " '__getattribute__',\n",
       " '__getitem__',\n",
       " '__gt__',\n",
       " '__hash__',\n",
       " '__iadd__',\n",
       " '__imul__',\n",
       " '__init__',\n",
       " '__init_subclass__',\n",
       " '__iter__',\n",
       " '__le__',\n",
       " '__len__',\n",
       " '__lt__',\n",
       " '__mul__',\n",
       " '__ne__',\n",
       " '__new__',\n",
       " '__reduce__',\n",
       " '__reduce_ex__',\n",
       " '__repr__',\n",
       " '__reversed__',\n",
       " '__rmul__',\n",
       " '__setattr__',\n",
       " '__setitem__',\n",
       " '__sizeof__',\n",
       " '__str__',\n",
       " '__subclasshook__',\n",
       " 'append',\n",
       " 'clear',\n",
       " 'copy',\n",
       " 'count',\n",
       " 'extend',\n",
       " 'index',\n",
       " 'insert',\n",
       " 'pop',\n",
       " 'remove',\n",
       " 'reverse',\n",
       " 'sort']"
      ]
     },
     "execution_count": 28,
     "metadata": {},
     "output_type": "execute_result"
    }
   ],
   "source": [
    "dir(isim_listesi)"
   ]
  },
  {
   "cell_type": "code",
   "execution_count": 29,
   "id": "bb183cff",
   "metadata": {},
   "outputs": [],
   "source": [
    "isim_listesi.append(\"serhat\")"
   ]
  },
  {
   "cell_type": "code",
   "execution_count": 30,
   "id": "3e9f48c9",
   "metadata": {},
   "outputs": [
    {
     "data": {
      "text/plain": [
       "['ali', 'veli', 'eyse', 'kemal', 'serhat']"
      ]
     },
     "execution_count": 30,
     "metadata": {},
     "output_type": "execute_result"
    }
   ],
   "source": [
    "isim_listesi"
   ]
  },
  {
   "cell_type": "code",
   "execution_count": 31,
   "id": "2ca097c4",
   "metadata": {},
   "outputs": [],
   "source": [
    "isim_listesi.remove(\"eyse\")"
   ]
  },
  {
   "cell_type": "code",
   "execution_count": 32,
   "id": "7d6fcc0d",
   "metadata": {},
   "outputs": [
    {
     "data": {
      "text/plain": [
       "['ali', 'veli', 'kemal', 'serhat']"
      ]
     },
     "execution_count": 32,
     "metadata": {},
     "output_type": "execute_result"
    }
   ],
   "source": [
    "isim_listesi"
   ]
  },
  {
   "cell_type": "code",
   "execution_count": 33,
   "id": "b1c442df",
   "metadata": {},
   "outputs": [],
   "source": [
    "#insert\n",
    "\n",
    "isim_listesi.insert(0,\"ulas\")"
   ]
  },
  {
   "cell_type": "code",
   "execution_count": 34,
   "id": "40df6e3b",
   "metadata": {},
   "outputs": [
    {
     "data": {
      "text/plain": [
       "['ulas', 'ali', 'veli', 'kemal', 'serhat']"
      ]
     },
     "execution_count": 34,
     "metadata": {},
     "output_type": "execute_result"
    }
   ],
   "source": [
    "isim_listesi"
   ]
  },
  {
   "cell_type": "code",
   "execution_count": 35,
   "id": "308c1422",
   "metadata": {},
   "outputs": [],
   "source": [
    "isim_listesi.insert(len(isim_listesi),\"sari\")"
   ]
  },
  {
   "cell_type": "code",
   "execution_count": 36,
   "id": "45067cdd",
   "metadata": {},
   "outputs": [
    {
     "data": {
      "text/plain": [
       "['ulas', 'ali', 'veli', 'kemal', 'serhat', 'sari']"
      ]
     },
     "execution_count": 36,
     "metadata": {},
     "output_type": "execute_result"
    }
   ],
   "source": [
    "isim_listesi"
   ]
  },
  {
   "cell_type": "code",
   "execution_count": 37,
   "id": "7e4444b3",
   "metadata": {},
   "outputs": [
    {
     "data": {
      "text/plain": [
       "'kemal'"
      ]
     },
     "execution_count": 37,
     "metadata": {},
     "output_type": "execute_result"
    }
   ],
   "source": [
    "#pop\n",
    "isim_listesi.pop(3)"
   ]
  },
  {
   "cell_type": "code",
   "execution_count": 38,
   "id": "352229d7",
   "metadata": {},
   "outputs": [
    {
     "data": {
      "text/plain": [
       "['ulas', 'ali', 'veli', 'serhat', 'sari']"
      ]
     },
     "execution_count": 38,
     "metadata": {},
     "output_type": "execute_result"
    }
   ],
   "source": [
    "isim_listesi"
   ]
  },
  {
   "cell_type": "code",
   "execution_count": 39,
   "id": "e49ab1f3",
   "metadata": {},
   "outputs": [
    {
     "data": {
      "text/plain": [
       "1"
      ]
     },
     "execution_count": 39,
     "metadata": {},
     "output_type": "execute_result"
    }
   ],
   "source": [
    "#count\n",
    "isim_listesi.count(\"ali\")"
   ]
  },
  {
   "cell_type": "code",
   "execution_count": 40,
   "id": "973b6d61",
   "metadata": {},
   "outputs": [],
   "source": [
    "isim_listesi.append(\"ali\")"
   ]
  },
  {
   "cell_type": "code",
   "execution_count": 41,
   "id": "4ee2b3c0",
   "metadata": {},
   "outputs": [
    {
     "data": {
      "text/plain": [
       "2"
      ]
     },
     "execution_count": 41,
     "metadata": {},
     "output_type": "execute_result"
    }
   ],
   "source": [
    "isim_listesi.count(\"ali\")"
   ]
  },
  {
   "cell_type": "code",
   "execution_count": 42,
   "id": "eca90e3e",
   "metadata": {},
   "outputs": [],
   "source": [
    "#copy\n",
    "liste_yedek = isim_listesi.copy()"
   ]
  },
  {
   "cell_type": "code",
   "execution_count": 43,
   "id": "90864172",
   "metadata": {},
   "outputs": [
    {
     "data": {
      "text/plain": [
       "['ulas', 'ali', 'veli', 'serhat', 'sari', 'ali']"
      ]
     },
     "execution_count": 43,
     "metadata": {},
     "output_type": "execute_result"
    }
   ],
   "source": [
    "liste_yedek"
   ]
  },
  {
   "cell_type": "code",
   "execution_count": 44,
   "id": "63f7a88a",
   "metadata": {},
   "outputs": [],
   "source": [
    "#extend\n",
    "liste.extend([\"a\",3])"
   ]
  },
  {
   "cell_type": "code",
   "execution_count": 45,
   "id": "f8cbb36e",
   "metadata": {},
   "outputs": [
    {
     "data": {
      "text/plain": [
       "['a', 90, 19.3, 'a', 3]"
      ]
     },
     "execution_count": 45,
     "metadata": {},
     "output_type": "execute_result"
    }
   ],
   "source": [
    "liste"
   ]
  },
  {
   "cell_type": "code",
   "execution_count": 46,
   "id": "b0bac711",
   "metadata": {},
   "outputs": [
    {
     "data": {
      "text/plain": [
       "2"
      ]
     },
     "execution_count": 46,
     "metadata": {},
     "output_type": "execute_result"
    }
   ],
   "source": [
    "#index\n",
    "\n",
    "liste.index(19.3)"
   ]
  },
  {
   "cell_type": "code",
   "execution_count": 47,
   "id": "96abd147",
   "metadata": {},
   "outputs": [],
   "source": [
    "#reverse\n",
    "liste.reverse()"
   ]
  },
  {
   "cell_type": "code",
   "execution_count": 48,
   "id": "b8d5f719",
   "metadata": {},
   "outputs": [
    {
     "data": {
      "text/plain": [
       "[3, 'a', 19.3, 90, 'a']"
      ]
     },
     "execution_count": 48,
     "metadata": {},
     "output_type": "execute_result"
    }
   ],
   "source": [
    "liste"
   ]
  },
  {
   "cell_type": "code",
   "execution_count": 49,
   "id": "b28b6533",
   "metadata": {},
   "outputs": [
    {
     "data": {
      "text/plain": [
       "[10, 60, 80, 100]"
      ]
     },
     "execution_count": 49,
     "metadata": {},
     "output_type": "execute_result"
    }
   ],
   "source": [
    "#sort\n",
    "liste = [10,80,60,100]\n",
    "liste.sort()\n",
    "liste"
   ]
  },
  {
   "cell_type": "code",
   "execution_count": 50,
   "id": "1e49518c",
   "metadata": {},
   "outputs": [
    {
     "data": {
      "text/plain": [
       "[]"
      ]
     },
     "execution_count": 50,
     "metadata": {},
     "output_type": "execute_result"
    }
   ],
   "source": [
    "#clear\n",
    "liste.clear()\n",
    "liste"
   ]
  },
  {
   "cell_type": "markdown",
   "id": "ee116368",
   "metadata": {},
   "source": [
    "# Tuple "
   ]
  },
  {
   "cell_type": "code",
   "execution_count": 51,
   "id": "7c179a41",
   "metadata": {},
   "outputs": [
    {
     "data": {
      "text/plain": [
       "['__add__',\n",
       " '__class__',\n",
       " '__class_getitem__',\n",
       " '__contains__',\n",
       " '__delattr__',\n",
       " '__dir__',\n",
       " '__doc__',\n",
       " '__eq__',\n",
       " '__format__',\n",
       " '__ge__',\n",
       " '__getattribute__',\n",
       " '__getitem__',\n",
       " '__getnewargs__',\n",
       " '__gt__',\n",
       " '__hash__',\n",
       " '__init__',\n",
       " '__init_subclass__',\n",
       " '__iter__',\n",
       " '__le__',\n",
       " '__len__',\n",
       " '__lt__',\n",
       " '__mul__',\n",
       " '__ne__',\n",
       " '__new__',\n",
       " '__reduce__',\n",
       " '__reduce_ex__',\n",
       " '__repr__',\n",
       " '__rmul__',\n",
       " '__setattr__',\n",
       " '__sizeof__',\n",
       " '__str__',\n",
       " '__subclasshook__',\n",
       " 'count',\n",
       " 'index']"
      ]
     },
     "execution_count": 51,
     "metadata": {},
     "output_type": "execute_result"
    }
   ],
   "source": [
    "dir(tuple)"
   ]
  },
  {
   "cell_type": "code",
   "execution_count": 52,
   "id": "ba3cc162",
   "metadata": {},
   "outputs": [],
   "source": [
    "#tuple oluşturma \n",
    "t = (\"ali\",\"veli\",1,2,3.2,[1,2,3,4])"
   ]
  },
  {
   "cell_type": "code",
   "execution_count": 53,
   "id": "823e6f7f",
   "metadata": {},
   "outputs": [],
   "source": [
    "t = \"ali\",\"veli\",1,2,3.2,[1,2,3,4]"
   ]
  },
  {
   "cell_type": "code",
   "execution_count": 54,
   "id": "c7f617d9",
   "metadata": {},
   "outputs": [
    {
     "data": {
      "text/plain": [
       "tuple"
      ]
     },
     "execution_count": 54,
     "metadata": {},
     "output_type": "execute_result"
    }
   ],
   "source": [
    "type(t)"
   ]
  },
  {
   "cell_type": "code",
   "execution_count": 55,
   "id": "309ae91e",
   "metadata": {},
   "outputs": [
    {
     "data": {
      "text/plain": [
       "'veli'"
      ]
     },
     "execution_count": 55,
     "metadata": {},
     "output_type": "execute_result"
    }
   ],
   "source": [
    "t[1]"
   ]
  },
  {
   "cell_type": "code",
   "execution_count": 56,
   "id": "221ab771",
   "metadata": {},
   "outputs": [
    {
     "data": {
      "text/plain": [
       "('ali', 'veli', 1)"
      ]
     },
     "execution_count": 56,
     "metadata": {},
     "output_type": "execute_result"
    }
   ],
   "source": [
    "t[0:3]"
   ]
  },
  {
   "cell_type": "code",
   "execution_count": 57,
   "id": "b3902223",
   "metadata": {},
   "outputs": [
    {
     "ename": "TypeError",
     "evalue": "'tuple' object does not support item assignment",
     "output_type": "error",
     "traceback": [
      "\u001b[1;31m---------------------------------------------------------------------------\u001b[0m",
      "\u001b[1;31mTypeError\u001b[0m                                 Traceback (most recent call last)",
      "Input \u001b[1;32mIn [57]\u001b[0m, in \u001b[0;36m<cell line: 2>\u001b[1;34m()\u001b[0m\n\u001b[0;32m      1\u001b[0m \u001b[38;5;66;03m# tuplelarda eleman değiştirilemez\u001b[39;00m\n\u001b[1;32m----> 2\u001b[0m t[\u001b[38;5;241m2\u001b[39m] \u001b[38;5;241m=\u001b[39m \u001b[38;5;241m99\u001b[39m\n",
      "\u001b[1;31mTypeError\u001b[0m: 'tuple' object does not support item assignment"
     ]
    }
   ],
   "source": [
    "# tuplelarda eleman değiştirilemez\n",
    "t[2] = 99"
   ]
  },
  {
   "cell_type": "markdown",
   "id": "358aab46",
   "metadata": {},
   "source": [
    "# Dictionary (Sözlük)"
   ]
  },
  {
   "cell_type": "code",
   "execution_count": 58,
   "id": "c6eb3fed",
   "metadata": {},
   "outputs": [],
   "source": [
    "sozluk = {\"REG\" : \"Regresyon Modeli\",\n",
    "          \"LOJ\" : \"Lojistik Regresyon\",\n",
    "          \"CART\" : \"Classification and Reg\"}"
   ]
  },
  {
   "cell_type": "code",
   "execution_count": 59,
   "id": "a0748695",
   "metadata": {},
   "outputs": [
    {
     "data": {
      "text/plain": [
       "{'REG': 'Regresyon Modeli',\n",
       " 'LOJ': 'Lojistik Regresyon',\n",
       " 'CART': 'Classification and Reg'}"
      ]
     },
     "execution_count": 59,
     "metadata": {},
     "output_type": "execute_result"
    }
   ],
   "source": [
    "sozluk"
   ]
  },
  {
   "cell_type": "code",
   "execution_count": 60,
   "id": "0638e2c9",
   "metadata": {},
   "outputs": [
    {
     "data": {
      "text/plain": [
       "3"
      ]
     },
     "execution_count": 60,
     "metadata": {},
     "output_type": "execute_result"
    }
   ],
   "source": [
    "len(sozluk)"
   ]
  },
  {
   "cell_type": "code",
   "execution_count": 61,
   "id": "a3def931",
   "metadata": {},
   "outputs": [],
   "source": [
    "sozluk = {\"REG\" : 10,\n",
    "          \"LOJ\" : 20,\n",
    "          \"CART\" :30}\n"
   ]
  },
  {
   "cell_type": "code",
   "execution_count": 62,
   "id": "72685707",
   "metadata": {},
   "outputs": [
    {
     "data": {
      "text/plain": [
       "{'REG': 10, 'LOJ': 20, 'CART': 30}"
      ]
     },
     "execution_count": 62,
     "metadata": {},
     "output_type": "execute_result"
    }
   ],
   "source": [
    "sozluk"
   ]
  },
  {
   "cell_type": "code",
   "execution_count": 63,
   "id": "cb6c2ebf",
   "metadata": {},
   "outputs": [],
   "source": [
    "sozluk = {\"REG\" :[\"RMSE\",10],\n",
    "          \"LOJ\" :[ \"WSE\",20],\n",
    "          \"CART\" :[\"SSE\",30]}"
   ]
  },
  {
   "cell_type": "code",
   "execution_count": 64,
   "id": "5e737026",
   "metadata": {},
   "outputs": [
    {
     "data": {
      "text/plain": [
       "{'REG': ['RMSE', 10], 'LOJ': ['WSE', 20], 'CART': ['SSE', 30]}"
      ]
     },
     "execution_count": 64,
     "metadata": {},
     "output_type": "execute_result"
    }
   ],
   "source": [
    "sozluk"
   ]
  },
  {
   "cell_type": "code",
   "execution_count": 65,
   "id": "104fbe90",
   "metadata": {},
   "outputs": [],
   "source": [
    "sozluk = {\"REG\" : \"Regresyon Modeli\",\n",
    "          \"LOJ\" : \"Lojistik Regresyon\",\n",
    "          \"CART\" : \"Classification and Reg\"}"
   ]
  },
  {
   "cell_type": "code",
   "execution_count": 66,
   "id": "a7ddc220",
   "metadata": {},
   "outputs": [
    {
     "data": {
      "text/plain": [
       "'Regresyon Modeli'"
      ]
     },
     "execution_count": 66,
     "metadata": {},
     "output_type": "execute_result"
    }
   ],
   "source": [
    "sozluk[\"REG\"]"
   ]
  },
  {
   "cell_type": "code",
   "execution_count": 68,
   "id": "b00adf5c",
   "metadata": {},
   "outputs": [
    {
     "data": {
      "text/plain": [
       "'Lojistik Regresyon'"
      ]
     },
     "execution_count": 68,
     "metadata": {},
     "output_type": "execute_result"
    }
   ],
   "source": [
    "sozluk[\"LOJ\"]"
   ]
  },
  {
   "cell_type": "code",
   "execution_count": 76,
   "id": "8ee3adf1",
   "metadata": {},
   "outputs": [],
   "source": [
    "sozluk = {\"REG\" :{  \"RMSE\" : 10,\n",
    "                    \"WSE\"  : 20,\n",
    "                    \"SSE\"  : 30},\n",
    "          \"LOJ\" :{  \"RMSE\" : 10,\n",
    "                    \"WSE\"  : 20,\n",
    "                    \"SSE\"  : 30},\n",
    "          \"CART\" :{ \"RMSE\" : 10,\n",
    "                    \"WSE\"  : 20,\n",
    "                    \"SSE\"  : 30}}"
   ]
  },
  {
   "cell_type": "code",
   "execution_count": 77,
   "id": "b9aee8c7",
   "metadata": {},
   "outputs": [
    {
     "data": {
      "text/plain": [
       "{'REG': {'RMSE': 10, 'WSE': 20, 'SSE': 30},\n",
       " 'LOJ': {'RMSE': 10, 'WSE': 20, 'SSE': 30},\n",
       " 'CART': {'RMSE': 10, 'WSE': 20, 'SSE': 30}}"
      ]
     },
     "execution_count": 77,
     "metadata": {},
     "output_type": "execute_result"
    }
   ],
   "source": [
    "sozluk"
   ]
  },
  {
   "cell_type": "code",
   "execution_count": 78,
   "id": "21ef7417",
   "metadata": {},
   "outputs": [
    {
     "data": {
      "text/plain": [
       "10"
      ]
     },
     "execution_count": 78,
     "metadata": {},
     "output_type": "execute_result"
    }
   ],
   "source": [
    "sozluk[\"REG\"][\"RMSE\"]"
   ]
  },
  {
   "cell_type": "code",
   "execution_count": 79,
   "id": "d23d6e9e",
   "metadata": {},
   "outputs": [],
   "source": [
    "#sozluklere eleman ekleme çıkartma\n",
    "sozluk = {\"REG\" : \"Regresyon Modeli\",\n",
    "          \"LOJ\" : \"Lojistik Regresyon\",\n",
    "          \"CART\" : \"Classification and Reg\"}"
   ]
  },
  {
   "cell_type": "code",
   "execution_count": 80,
   "id": "435163dd",
   "metadata": {},
   "outputs": [],
   "source": [
    "sozluk[\"GBM\"] = \"Gradient Boosting Mac\""
   ]
  },
  {
   "cell_type": "code",
   "execution_count": 81,
   "id": "b1efcec7",
   "metadata": {},
   "outputs": [
    {
     "data": {
      "text/plain": [
       "{'REG': 'Regresyon Modeli',\n",
       " 'LOJ': 'Lojistik Regresyon',\n",
       " 'CART': 'Classification and Reg',\n",
       " 'GBM': 'Gradient Boosting Mac'}"
      ]
     },
     "execution_count": 81,
     "metadata": {},
     "output_type": "execute_result"
    }
   ],
   "source": [
    "sozluk"
   ]
  },
  {
   "cell_type": "code",
   "execution_count": 82,
   "id": "46a28c8f",
   "metadata": {},
   "outputs": [],
   "source": [
    "sozluk[1] = \"Yapay sinir ağları\""
   ]
  },
  {
   "cell_type": "code",
   "execution_count": 83,
   "id": "5621ad8d",
   "metadata": {},
   "outputs": [
    {
     "data": {
      "text/plain": [
       "{'REG': 'Regresyon Modeli',\n",
       " 'LOJ': 'Lojistik Regresyon',\n",
       " 'CART': 'Classification and Reg',\n",
       " 'GBM': 'Gradient Boosting Mac',\n",
       " 1: 'Yapay sinir ağları'}"
      ]
     },
     "execution_count": 83,
     "metadata": {},
     "output_type": "execute_result"
    }
   ],
   "source": [
    "sozluk"
   ]
  },
  {
   "cell_type": "code",
   "execution_count": 87,
   "id": "1be136cc",
   "metadata": {},
   "outputs": [
    {
     "ename": "TypeError",
     "evalue": "unhashable type: 'list'",
     "output_type": "error",
     "traceback": [
      "\u001b[1;31m---------------------------------------------------------------------------\u001b[0m",
      "\u001b[1;31mTypeError\u001b[0m                                 Traceback (most recent call last)",
      "Input \u001b[1;32mIn [87]\u001b[0m, in \u001b[0;36m<cell line: 5>\u001b[1;34m()\u001b[0m\n\u001b[0;32m      2\u001b[0m l \u001b[38;5;241m=\u001b[39m [\u001b[38;5;241m1\u001b[39m]\n\u001b[0;32m      3\u001b[0m l\n\u001b[1;32m----> 5\u001b[0m sozluk[l] \u001b[38;5;241m=\u001b[39m \u001b[38;5;124m\"\u001b[39m\u001b[38;5;124myeni bir sayı\u001b[39m\u001b[38;5;124m\"\u001b[39m\n",
      "\u001b[1;31mTypeError\u001b[0m: unhashable type: 'list'"
     ]
    }
   ],
   "source": [
    "#özluklerde tuple değer olarak atanır ama listeler atanamaz\n",
    "l = [1]\n",
    "l\n",
    "\n",
    "sozluk[l] = \"yeni bir sayı\""
   ]
  },
  {
   "cell_type": "code",
   "execution_count": 88,
   "id": "0e439a23",
   "metadata": {},
   "outputs": [],
   "source": [
    "t = (\"tuple\" ,)\n",
    "\n",
    "sozluk[t] = \"yeni bir şey\""
   ]
  },
  {
   "cell_type": "code",
   "execution_count": 89,
   "id": "1f38ae81",
   "metadata": {},
   "outputs": [
    {
     "data": {
      "text/plain": [
       "{'REG': 'Regresyon Modeli',\n",
       " 'LOJ': 'Lojistik Regresyon',\n",
       " 'CART': 'Classification and Reg',\n",
       " 'GBM': 'Gradient Boosting Mac',\n",
       " 1: 'Yapay sinir ağları',\n",
       " ('tuple',): 'yeni bir şey'}"
      ]
     },
     "execution_count": 89,
     "metadata": {},
     "output_type": "execute_result"
    }
   ],
   "source": [
    "sozluk"
   ]
  },
  {
   "cell_type": "markdown",
   "id": "506ddf4d",
   "metadata": {},
   "source": [
    "# Setler \n",
    "- sırasızdır\n",
    "- degerleri eşsizdir\n",
    "- değiştirilebilirdir\n",
    "- farklı tipleri barındırabilir"
   ]
  },
  {
   "cell_type": "code",
   "execution_count": 90,
   "id": "f02e4633",
   "metadata": {},
   "outputs": [],
   "source": [
    "# set oluşturma\n",
    "\n",
    "s = set()"
   ]
  },
  {
   "cell_type": "code",
   "execution_count": 91,
   "id": "da8833dd",
   "metadata": {},
   "outputs": [
    {
     "data": {
      "text/plain": [
       "set"
      ]
     },
     "execution_count": 91,
     "metadata": {},
     "output_type": "execute_result"
    }
   ],
   "source": [
    "type(s)"
   ]
  },
  {
   "cell_type": "code",
   "execution_count": 92,
   "id": "7f740a9d",
   "metadata": {},
   "outputs": [
    {
     "data": {
      "text/plain": [
       "{1, 123, 'a', 'ali'}"
      ]
     },
     "execution_count": 92,
     "metadata": {},
     "output_type": "execute_result"
    }
   ],
   "source": [
    "l= [1,\"a\",\"ali\",123]\n",
    "s=set(l)\n",
    "s"
   ]
  },
  {
   "cell_type": "code",
   "execution_count": 93,
   "id": "21bd0417",
   "metadata": {},
   "outputs": [
    {
     "data": {
      "text/plain": [
       "{'a', 'ali'}"
      ]
     },
     "execution_count": 93,
     "metadata": {},
     "output_type": "execute_result"
    }
   ],
   "source": [
    "t = (\"a\",\"ali\")\n",
    "s = set(t)\n",
    "s"
   ]
  },
  {
   "cell_type": "code",
   "execution_count": 94,
   "id": "a0c5a6f3",
   "metadata": {},
   "outputs": [
    {
     "data": {
      "text/plain": [
       "str"
      ]
     },
     "execution_count": 94,
     "metadata": {},
     "output_type": "execute_result"
    }
   ],
   "source": [
    "ali = \"lutfen_ata_bakma_uzaya_git\"\n",
    "type(ali)"
   ]
  },
  {
   "cell_type": "code",
   "execution_count": 95,
   "id": "e4824927",
   "metadata": {},
   "outputs": [],
   "source": [
    "s = set(ali)"
   ]
  },
  {
   "cell_type": "code",
   "execution_count": 96,
   "id": "aad20112",
   "metadata": {},
   "outputs": [
    {
     "data": {
      "text/plain": [
       "{'_', 'a', 'b', 'e', 'f', 'g', 'i', 'k', 'l', 'm', 'n', 't', 'u', 'y', 'z'}"
      ]
     },
     "execution_count": 96,
     "metadata": {},
     "output_type": "execute_result"
    }
   ],
   "source": [
    "s"
   ]
  },
  {
   "cell_type": "code",
   "execution_count": 97,
   "id": "9e23580b",
   "metadata": {},
   "outputs": [],
   "source": [
    "l = [ \"ali\",\"lutfen\",\"ata\",\"bakma\",\"uzaya\",\"git\" ,\"git\",\"ali\",\"git\"]"
   ]
  },
  {
   "cell_type": "code",
   "execution_count": 98,
   "id": "6aef97ce",
   "metadata": {},
   "outputs": [],
   "source": [
    "s = set(l)"
   ]
  },
  {
   "cell_type": "code",
   "execution_count": 99,
   "id": "b5efb05e",
   "metadata": {},
   "outputs": [
    {
     "data": {
      "text/plain": [
       "{'ali', 'ata', 'bakma', 'git', 'lutfen', 'uzaya'}"
      ]
     },
     "execution_count": 99,
     "metadata": {},
     "output_type": "execute_result"
    }
   ],
   "source": [
    "s"
   ]
  },
  {
   "cell_type": "code",
   "execution_count": 100,
   "id": "ef7d09cd",
   "metadata": {},
   "outputs": [
    {
     "data": {
      "text/plain": [
       "6"
      ]
     },
     "execution_count": 100,
     "metadata": {},
     "output_type": "execute_result"
    }
   ],
   "source": [
    "len(s)"
   ]
  },
  {
   "cell_type": "code",
   "execution_count": 101,
   "id": "5961f566",
   "metadata": {},
   "outputs": [
    {
     "data": {
      "text/plain": [
       "'ali'"
      ]
     },
     "execution_count": 101,
     "metadata": {},
     "output_type": "execute_result"
    }
   ],
   "source": [
    "l[0]"
   ]
  },
  {
   "cell_type": "code",
   "execution_count": 102,
   "id": "2b58116f",
   "metadata": {},
   "outputs": [
    {
     "ename": "TypeError",
     "evalue": "'set' object is not subscriptable",
     "output_type": "error",
     "traceback": [
      "\u001b[1;31m---------------------------------------------------------------------------\u001b[0m",
      "\u001b[1;31mTypeError\u001b[0m                                 Traceback (most recent call last)",
      "Input \u001b[1;32mIn [102]\u001b[0m, in \u001b[0;36m<cell line: 1>\u001b[1;34m()\u001b[0m\n\u001b[1;32m----> 1\u001b[0m \u001b[43ms\u001b[49m\u001b[43m[\u001b[49m\u001b[38;5;241;43m0\u001b[39;49m\u001b[43m]\u001b[49m\n",
      "\u001b[1;31mTypeError\u001b[0m: 'set' object is not subscriptable"
     ]
    }
   ],
   "source": [
    "s[0]"
   ]
  },
  {
   "cell_type": "code",
   "execution_count": 103,
   "id": "1bf19fc1",
   "metadata": {},
   "outputs": [],
   "source": [
    "#setlerde eleman ekleme çıkartma\n",
    "\n",
    "l = [\"gelecegi\",\"yazanlar\"]\n",
    "\n",
    "s = set(l)"
   ]
  },
  {
   "cell_type": "code",
   "execution_count": 104,
   "id": "dcdba264",
   "metadata": {},
   "outputs": [
    {
     "data": {
      "text/plain": [
       "['__and__',\n",
       " '__class__',\n",
       " '__class_getitem__',\n",
       " '__contains__',\n",
       " '__delattr__',\n",
       " '__dir__',\n",
       " '__doc__',\n",
       " '__eq__',\n",
       " '__format__',\n",
       " '__ge__',\n",
       " '__getattribute__',\n",
       " '__gt__',\n",
       " '__hash__',\n",
       " '__iand__',\n",
       " '__init__',\n",
       " '__init_subclass__',\n",
       " '__ior__',\n",
       " '__isub__',\n",
       " '__iter__',\n",
       " '__ixor__',\n",
       " '__le__',\n",
       " '__len__',\n",
       " '__lt__',\n",
       " '__ne__',\n",
       " '__new__',\n",
       " '__or__',\n",
       " '__rand__',\n",
       " '__reduce__',\n",
       " '__reduce_ex__',\n",
       " '__repr__',\n",
       " '__ror__',\n",
       " '__rsub__',\n",
       " '__rxor__',\n",
       " '__setattr__',\n",
       " '__sizeof__',\n",
       " '__str__',\n",
       " '__sub__',\n",
       " '__subclasshook__',\n",
       " '__xor__',\n",
       " 'add',\n",
       " 'clear',\n",
       " 'copy',\n",
       " 'difference',\n",
       " 'difference_update',\n",
       " 'discard',\n",
       " 'intersection',\n",
       " 'intersection_update',\n",
       " 'isdisjoint',\n",
       " 'issubset',\n",
       " 'issuperset',\n",
       " 'pop',\n",
       " 'remove',\n",
       " 'symmetric_difference',\n",
       " 'symmetric_difference_update',\n",
       " 'union',\n",
       " 'update']"
      ]
     },
     "execution_count": 104,
     "metadata": {},
     "output_type": "execute_result"
    }
   ],
   "source": [
    "dir(s)"
   ]
  },
  {
   "cell_type": "code",
   "execution_count": 105,
   "id": "e43e981b",
   "metadata": {},
   "outputs": [],
   "source": [
    "s.add(\"ile\")\n",
    "s.add(\"geleceğe_git\")"
   ]
  },
  {
   "cell_type": "code",
   "execution_count": 106,
   "id": "be24c3fe",
   "metadata": {},
   "outputs": [
    {
     "data": {
      "text/plain": [
       "{'gelecegi', 'geleceğe_git', 'ile', 'yazanlar'}"
      ]
     },
     "execution_count": 106,
     "metadata": {},
     "output_type": "execute_result"
    }
   ],
   "source": [
    "s"
   ]
  },
  {
   "cell_type": "code",
   "execution_count": 107,
   "id": "85ea6b41",
   "metadata": {},
   "outputs": [],
   "source": [
    "s.add(\"ile\")"
   ]
  },
  {
   "cell_type": "code",
   "execution_count": 108,
   "id": "ca8e0f69",
   "metadata": {},
   "outputs": [
    {
     "data": {
      "text/plain": [
       "{'gelecegi', 'geleceğe_git', 'ile', 'yazanlar'}"
      ]
     },
     "execution_count": 108,
     "metadata": {},
     "output_type": "execute_result"
    }
   ],
   "source": [
    "s"
   ]
  },
  {
   "cell_type": "code",
   "execution_count": 109,
   "id": "fd9d4751",
   "metadata": {},
   "outputs": [],
   "source": [
    "s.add(\"ali\")"
   ]
  },
  {
   "cell_type": "code",
   "execution_count": 110,
   "id": "db026991",
   "metadata": {},
   "outputs": [
    {
     "data": {
      "text/plain": [
       "{'ali', 'gelecegi', 'geleceğe_git', 'ile', 'yazanlar'}"
      ]
     },
     "execution_count": 110,
     "metadata": {},
     "output_type": "execute_result"
    }
   ],
   "source": [
    "s"
   ]
  },
  {
   "cell_type": "code",
   "execution_count": 111,
   "id": "a7ea76ab",
   "metadata": {},
   "outputs": [],
   "source": [
    "s.remove(\"ali\")"
   ]
  },
  {
   "cell_type": "code",
   "execution_count": 112,
   "id": "35ac22a7",
   "metadata": {},
   "outputs": [
    {
     "data": {
      "text/plain": [
       "{'gelecegi', 'geleceğe_git', 'ile', 'yazanlar'}"
      ]
     },
     "execution_count": 112,
     "metadata": {},
     "output_type": "execute_result"
    }
   ],
   "source": [
    "s"
   ]
  },
  {
   "cell_type": "markdown",
   "id": "493c364e",
   "metadata": {},
   "source": [
    "### Setler- Klasik Kume İşlemleri\n",
    "- difference() ile iki kumenin farkini ya da \"-\" ifadesi\n",
    "- intersection() iki küme kesişimi ya da \"&\" ifaedi\n",
    "- union() iki kumenin birlesimi \n",
    "- symmetric_difference() ikisinde de olmayanşlari"
   ]
  },
  {
   "cell_type": "code",
   "execution_count": 113,
   "id": "969e0489",
   "metadata": {},
   "outputs": [
    {
     "data": {
      "text/plain": [
       "{5}"
      ]
     },
     "execution_count": 113,
     "metadata": {},
     "output_type": "execute_result"
    }
   ],
   "source": [
    "# difference \n",
    "set1 = set([1,3,5])\n",
    "set2 = set([1,2,3])\n",
    "\n",
    "set1.difference(set2)"
   ]
  },
  {
   "cell_type": "code",
   "execution_count": 114,
   "id": "e32697a8",
   "metadata": {},
   "outputs": [
    {
     "data": {
      "text/plain": [
       "{2}"
      ]
     },
     "execution_count": 114,
     "metadata": {},
     "output_type": "execute_result"
    }
   ],
   "source": [
    "set2.difference(set1)"
   ]
  },
  {
   "cell_type": "code",
   "execution_count": 115,
   "id": "0583e2d8",
   "metadata": {},
   "outputs": [
    {
     "data": {
      "text/plain": [
       "{2, 5}"
      ]
     },
     "execution_count": 115,
     "metadata": {},
     "output_type": "execute_result"
    }
   ],
   "source": [
    "set1.symmetric_difference(set2)"
   ]
  },
  {
   "cell_type": "code",
   "execution_count": 116,
   "id": "8e9f9d25",
   "metadata": {},
   "outputs": [
    {
     "data": {
      "text/plain": [
       "{5}"
      ]
     },
     "execution_count": 116,
     "metadata": {},
     "output_type": "execute_result"
    }
   ],
   "source": [
    "set1 - set2"
   ]
  },
  {
   "cell_type": "code",
   "execution_count": 117,
   "id": "0089e40f",
   "metadata": {},
   "outputs": [
    {
     "data": {
      "text/plain": [
       "{2}"
      ]
     },
     "execution_count": 117,
     "metadata": {},
     "output_type": "execute_result"
    }
   ],
   "source": [
    "set2 - set1"
   ]
  },
  {
   "cell_type": "code",
   "execution_count": 118,
   "id": "f2819fb9",
   "metadata": {},
   "outputs": [
    {
     "data": {
      "text/plain": [
       "{1, 3}"
      ]
     },
     "execution_count": 118,
     "metadata": {},
     "output_type": "execute_result"
    }
   ],
   "source": [
    "# intersection & union\n",
    "set1.intersection(set2)"
   ]
  },
  {
   "cell_type": "code",
   "execution_count": 121,
   "id": "6b506905",
   "metadata": {},
   "outputs": [
    {
     "data": {
      "text/plain": [
       "{1, 3}"
      ]
     },
     "execution_count": 121,
     "metadata": {},
     "output_type": "execute_result"
    }
   ],
   "source": [
    "kesisim = set1 & set2\n",
    "kesisim"
   ]
  },
  {
   "cell_type": "code",
   "execution_count": 122,
   "id": "88c56bf5",
   "metadata": {},
   "outputs": [
    {
     "data": {
      "text/plain": [
       "{1, 2, 3, 5}"
      ]
     },
     "execution_count": 122,
     "metadata": {},
     "output_type": "execute_result"
    }
   ],
   "source": [
    "set1.union(set2)"
   ]
  },
  {
   "cell_type": "code",
   "execution_count": 123,
   "id": "8f1debab",
   "metadata": {},
   "outputs": [
    {
     "data": {
      "text/plain": [
       "{1, 2, 3, 5}"
      ]
     },
     "execution_count": 123,
     "metadata": {},
     "output_type": "execute_result"
    }
   ],
   "source": [
    "birlesim =set1.union(set2)\n",
    "birlesim"
   ]
  },
  {
   "cell_type": "code",
   "execution_count": 124,
   "id": "ad9e3ca3",
   "metadata": {},
   "outputs": [],
   "source": [
    "set1.intersection_update(set2)"
   ]
  },
  {
   "cell_type": "code",
   "execution_count": 125,
   "id": "e5b6904c",
   "metadata": {},
   "outputs": [
    {
     "data": {
      "text/plain": [
       "{1, 3}"
      ]
     },
     "execution_count": 125,
     "metadata": {},
     "output_type": "execute_result"
    }
   ],
   "source": [
    "set1"
   ]
  },
  {
   "cell_type": "code",
   "execution_count": 127,
   "id": "806cb721",
   "metadata": {},
   "outputs": [],
   "source": [
    "# Setlerde Sorgu İşlemleri\n",
    "\n",
    "set1 = set([7,8,9])\n",
    "set2 = set([5,6,7,8,9,10])\n"
   ]
  },
  {
   "cell_type": "code",
   "execution_count": 128,
   "id": "e5e1d1fe",
   "metadata": {},
   "outputs": [
    {
     "data": {
      "text/plain": [
       "False"
      ]
     },
     "execution_count": 128,
     "metadata": {},
     "output_type": "execute_result"
    }
   ],
   "source": [
    "#iki kümenin kesişiminin bos olup olmadığını sorgulama\n",
    "set1.isdisjoint(set2)"
   ]
  },
  {
   "cell_type": "code",
   "execution_count": 129,
   "id": "3626892b",
   "metadata": {},
   "outputs": [
    {
     "data": {
      "text/plain": [
       "True"
      ]
     },
     "execution_count": 129,
     "metadata": {},
     "output_type": "execute_result"
    }
   ],
   "source": [
    "# bir kümenin elemanlarının o küme içinde yer alıp almadığı\n",
    "set1.issubset(set2)"
   ]
  },
  {
   "cell_type": "code",
   "execution_count": 130,
   "id": "e8a97d05",
   "metadata": {},
   "outputs": [
    {
     "data": {
      "text/plain": [
       "True"
      ]
     },
     "execution_count": 130,
     "metadata": {},
     "output_type": "execute_result"
    }
   ],
   "source": [
    "set2.issuperset(set1)"
   ]
  }
 ],
 "metadata": {
  "kernelspec": {
   "display_name": "Python 3 (ipykernel)",
   "language": "python",
   "name": "python3"
  },
  "language_info": {
   "codemirror_mode": {
    "name": "ipython",
    "version": 3
   },
   "file_extension": ".py",
   "mimetype": "text/x-python",
   "name": "python",
   "nbconvert_exporter": "python",
   "pygments_lexer": "ipython3",
   "version": "3.9.12"
  }
 },
 "nbformat": 4,
 "nbformat_minor": 5
}
