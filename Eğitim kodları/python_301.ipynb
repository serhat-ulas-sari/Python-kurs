{
 "cells": [
  {
   "cell_type": "markdown",
   "id": "957ec0ea",
   "metadata": {},
   "source": [
    "# FONKSİYANLAR"
   ]
  },
  {
   "cell_type": "code",
   "execution_count": 1,
   "id": "78cdf133",
   "metadata": {},
   "outputs": [
    {
     "data": {
      "text/plain": [
       "builtin_function_or_method"
      ]
     },
     "execution_count": 1,
     "metadata": {},
     "output_type": "execute_result"
    }
   ],
   "source": [
    "# Fonksiyonlara giriş ve Fonksiyon Okuryazarlığı\n",
    "type(print)"
   ]
  },
  {
   "cell_type": "code",
   "execution_count": 2,
   "id": "3faf3613",
   "metadata": {},
   "outputs": [],
   "source": [
    "?print"
   ]
  },
  {
   "cell_type": "code",
   "execution_count": 3,
   "id": "38df1eb5",
   "metadata": {},
   "outputs": [
    {
     "name": "stdout",
     "output_type": "stream",
     "text": [
      "16\n",
      "5\n",
      "2.0\n",
      "9\n"
     ]
    }
   ],
   "source": [
    "#matamatiksel işlemler\n",
    "print(4*4)\n",
    "print(3+2)\n",
    "print(4/2)\n",
    "print(3**2)"
   ]
  },
  {
   "cell_type": "code",
   "execution_count": 4,
   "id": "b03a07f1",
   "metadata": {},
   "outputs": [],
   "source": [
    "#fonksiyon nasıl yazılır\n",
    "\n",
    "def kare_al(x):\n",
    "    print(x**2)"
   ]
  },
  {
   "cell_type": "code",
   "execution_count": 5,
   "id": "1fb1df8c",
   "metadata": {},
   "outputs": [
    {
     "name": "stdout",
     "output_type": "stream",
     "text": [
      "64\n"
     ]
    }
   ],
   "source": [
    "kare_al(8)"
   ]
  },
  {
   "cell_type": "code",
   "execution_count": 6,
   "id": "ec6898cb",
   "metadata": {},
   "outputs": [],
   "source": [
    "def kare_al(x):\n",
    "    print(\"Girilen sayı: \" + str(x) +\", karesi : \"+ str(x**2))"
   ]
  },
  {
   "cell_type": "code",
   "execution_count": 7,
   "id": "c80069f4",
   "metadata": {},
   "outputs": [
    {
     "name": "stdout",
     "output_type": "stream",
     "text": [
      "Girilen sayı: 3, karesi : 9\n"
     ]
    }
   ],
   "source": [
    "kare_al(3)"
   ]
  },
  {
   "cell_type": "code",
   "execution_count": 8,
   "id": "7a255fc1",
   "metadata": {},
   "outputs": [],
   "source": [
    "#iki argümanlı fonksiyon tanımlamak\n",
    "def carpma_yap(x,y):\n",
    "    c = x*y\n",
    "    return c\n"
   ]
  },
  {
   "cell_type": "code",
   "execution_count": 9,
   "id": "edf6b2da",
   "metadata": {},
   "outputs": [
    {
     "data": {
      "text/plain": [
       "32"
      ]
     },
     "execution_count": 9,
     "metadata": {},
     "output_type": "execute_result"
    }
   ],
   "source": [
    "carpma_yap(8,4)"
   ]
  },
  {
   "cell_type": "code",
   "execution_count": 10,
   "id": "df9f33d9",
   "metadata": {},
   "outputs": [],
   "source": [
    "# on tanımlı argumanlar\n",
    "def carp_yap(x,y=1):\n",
    "    print(x*y)"
   ]
  },
  {
   "cell_type": "code",
   "execution_count": 11,
   "id": "29b80d5b",
   "metadata": {},
   "outputs": [
    {
     "name": "stdout",
     "output_type": "stream",
     "text": [
      "3\n"
     ]
    }
   ],
   "source": [
    "carp_yap(3)"
   ]
  },
  {
   "cell_type": "code",
   "execution_count": 12,
   "id": "afc6655b",
   "metadata": {},
   "outputs": [
    {
     "name": "stdout",
     "output_type": "stream",
     "text": [
      "12\n"
     ]
    }
   ],
   "source": [
    "carp_yap(3,4)"
   ]
  },
  {
   "cell_type": "code",
   "execution_count": 13,
   "id": "70bc8359",
   "metadata": {},
   "outputs": [
    {
     "name": "stdout",
     "output_type": "stream",
     "text": [
      "6\n"
     ]
    }
   ],
   "source": [
    "carp_yap(y=2 ,x=3)"
   ]
  },
  {
   "cell_type": "code",
   "execution_count": 14,
   "id": "d06851d5",
   "metadata": {},
   "outputs": [],
   "source": [
    "# ne zaman fonksiyon yazılır = tekrarlayan işlemleri basitleştirmek için\n",
    "# sokak lambası fonksiyonu \n",
    "# isi nem sarj ilişkisini kontrol edelim\n",
    "\n",
    "def direk_hesap(isi,nem,sarj):\n",
    "    print((isi+nem)/sarj)"
   ]
  },
  {
   "cell_type": "code",
   "execution_count": 15,
   "id": "6cf37fc6",
   "metadata": {},
   "outputs": [
    {
     "name": "stdout",
     "output_type": "stream",
     "text": [
      "0.8333333333333334\n"
     ]
    }
   ],
   "source": [
    "direk_hesap(50,25,90)"
   ]
  },
  {
   "cell_type": "code",
   "execution_count": 16,
   "id": "26cbff37",
   "metadata": {},
   "outputs": [],
   "source": [
    "# cıktıyı girdi olarak kullanmak\n",
    "def direk_hesap(isi,nem,sarj):\n",
    "    return ((isi+nem)/sarj)"
   ]
  },
  {
   "cell_type": "code",
   "execution_count": 17,
   "id": "c5d37b1b",
   "metadata": {},
   "outputs": [
    {
     "data": {
      "text/plain": [
       "0.9285714285714286"
      ]
     },
     "execution_count": 17,
     "metadata": {},
     "output_type": "execute_result"
    }
   ],
   "source": [
    "direk_hesap(25,40,70)"
   ]
  },
  {
   "cell_type": "code",
   "execution_count": 18,
   "id": "90dee9fd",
   "metadata": {},
   "outputs": [
    {
     "data": {
      "text/plain": [
       "8.64"
      ]
     },
     "execution_count": 18,
     "metadata": {},
     "output_type": "execute_result"
    }
   ],
   "source": [
    "direk_hesap(23,25,50)*9"
   ]
  },
  {
   "cell_type": "code",
   "execution_count": 19,
   "id": "143d61f7",
   "metadata": {},
   "outputs": [
    {
     "data": {
      "text/plain": [
       "5"
      ]
     },
     "execution_count": 19,
     "metadata": {},
     "output_type": "execute_result"
    }
   ],
   "source": [
    "# local ve global değişkenler\n",
    "x = 10 \n",
    "y = 20\n",
    "\n",
    "def toplama_yap(x,y):\n",
    "    return x+y\n",
    "\n",
    "toplama_yap(2,3)\n"
   ]
  },
  {
   "cell_type": "code",
   "execution_count": 20,
   "id": "8042133b",
   "metadata": {},
   "outputs": [
    {
     "name": "stdout",
     "output_type": "stream",
     "text": [
      "10 20\n"
     ]
    }
   ],
   "source": [
    "print(x,y)"
   ]
  },
  {
   "cell_type": "code",
   "execution_count": 21,
   "id": "c9aca5aa",
   "metadata": {},
   "outputs": [],
   "source": [
    "# local etki alanindan lobal etki alanini değiştirmek\n",
    "\n",
    "x = []\n",
    "\n",
    "def eleman_ekle(y):\n",
    "    x.append(y)\n",
    "    print(str(y) + \" ifadesi eklendi\")"
   ]
  },
  {
   "cell_type": "code",
   "execution_count": 22,
   "id": "3a43c1ef",
   "metadata": {},
   "outputs": [
    {
     "name": "stdout",
     "output_type": "stream",
     "text": [
      "1 ifadesi eklendi\n"
     ]
    }
   ],
   "source": [
    "eleman_ekle(1)"
   ]
  },
  {
   "cell_type": "code",
   "execution_count": 23,
   "id": "68b41fde",
   "metadata": {},
   "outputs": [
    {
     "data": {
      "text/plain": [
       "[1]"
      ]
     },
     "execution_count": 23,
     "metadata": {},
     "output_type": "execute_result"
    }
   ],
   "source": [
    "x"
   ]
  },
  {
   "cell_type": "code",
   "execution_count": 24,
   "id": "3cd75f7d",
   "metadata": {},
   "outputs": [
    {
     "name": "stdout",
     "output_type": "stream",
     "text": [
      "ali ifadesi eklendi\n"
     ]
    }
   ],
   "source": [
    "eleman_ekle(\"ali\")"
   ]
  },
  {
   "cell_type": "code",
   "execution_count": 25,
   "id": "2d30a483",
   "metadata": {},
   "outputs": [
    {
     "data": {
      "text/plain": [
       "[1, 'ali']"
      ]
     },
     "execution_count": 25,
     "metadata": {},
     "output_type": "execute_result"
    }
   ],
   "source": [
    "x"
   ]
  },
  {
   "cell_type": "markdown",
   "id": "4ec0b1d2",
   "metadata": {},
   "source": [
    "# Karar & Kontrol yapıları\n"
   ]
  },
  {
   "cell_type": "code",
   "execution_count": 26,
   "id": "c972cff0",
   "metadata": {},
   "outputs": [
    {
     "name": "stdout",
     "output_type": "stream",
     "text": [
      "False\n",
      "True\n"
     ]
    }
   ],
   "source": [
    "# True -False ssorguklamaları\n",
    "sinir = 5000\n",
    "print(sinir==4000)\n",
    "print(sinir==5000)"
   ]
  },
  {
   "cell_type": "code",
   "execution_count": 27,
   "id": "61a99672",
   "metadata": {},
   "outputs": [
    {
     "name": "stdout",
     "output_type": "stream",
     "text": [
      "gelir sınırdan küçük \n",
      "1600000000\n"
     ]
    }
   ],
   "source": [
    "#if\n",
    "sinir = 50000\n",
    "gelir=40000\n",
    "\n",
    "if gelir<sinir :\n",
    "    print(\"gelir sınırdan küçük \")\n",
    "    print(gelir**2)"
   ]
  },
  {
   "cell_type": "code",
   "execution_count": 28,
   "id": "bf1d9307",
   "metadata": {},
   "outputs": [
    {
     "name": "stdout",
     "output_type": "stream",
     "text": [
      "gelir sınırdan büyük\n"
     ]
    }
   ],
   "source": [
    "sinir = 50000\n",
    "gelir=60000\n",
    "\n",
    "if gelir<sinir :\n",
    "    print(\"gelir sınırdan küçük \")\n",
    "else:\n",
    "    print(\"gelir sınırdan büyük\")"
   ]
  },
  {
   "cell_type": "code",
   "execution_count": 29,
   "id": "92252c93",
   "metadata": {},
   "outputs": [
    {
     "name": "stdout",
     "output_type": "stream",
     "text": [
      "magaza adi nedir? :serhat\n",
      "gelirinizi giriniz:1000\n",
      "uyarı!!!\n"
     ]
    }
   ],
   "source": [
    "# mini uygulama\n",
    "sinir =50000\n",
    "magaza_adi = input(\"magaza adi nedir? :\")\n",
    "gelir= int(input(\"gelirinizi giriniz:\"))\n",
    "\n",
    "if sinir<gelir :\n",
    "    print(\"tebrikler promosyon kazandınız\")\n",
    "elif sinir>gelir:\n",
    "    print(\"uyarı!!!\")\n",
    "else:\n",
    "    print(\"takibe devam\")\n"
   ]
  },
  {
   "cell_type": "markdown",
   "id": "93bc333d",
   "metadata": {},
   "source": [
    "# Döngüler\n"
   ]
  },
  {
   "cell_type": "markdown",
   "id": "86829fd2",
   "metadata": {},
   "source": [
    "### for döngüsü"
   ]
  },
  {
   "cell_type": "code",
   "execution_count": 30,
   "id": "1254517e",
   "metadata": {},
   "outputs": [
    {
     "name": "stdout",
     "output_type": "stream",
     "text": [
      "ali\n",
      "veli\n",
      "isik\n",
      "berk\n"
     ]
    }
   ],
   "source": [
    "ogrenci = [\"ali\",\"veli\",\"isik\",\"berk\"]\n",
    "\n",
    "\n",
    "for i in ogrenci:\n",
    "    print(i)"
   ]
  },
  {
   "cell_type": "code",
   "execution_count": 31,
   "id": "cd6c92f2",
   "metadata": {},
   "outputs": [],
   "source": [
    "maaslar = [1000,2000,3000,4000]"
   ]
  },
  {
   "cell_type": "code",
   "execution_count": 32,
   "id": "a4b4a0a9",
   "metadata": {},
   "outputs": [
    {
     "name": "stdout",
     "output_type": "stream",
     "text": [
      "1200.0\n",
      "2400.0\n",
      "3600.0\n",
      "4800.0\n"
     ]
    }
   ],
   "source": [
    "def zam(x):\n",
    "    print((x*20/100)+x) \n",
    "\n",
    "for i in maaslar:\n",
    "    zam(i)\n",
    "   "
   ]
  },
  {
   "cell_type": "code",
   "execution_count": 33,
   "id": "5d40b867",
   "metadata": {},
   "outputs": [
    {
     "name": "stdout",
     "output_type": "stream",
     "text": [
      "1400.0\n",
      "2800.0\n",
      "3900.0\n",
      "4800.0\n",
      "6000.0\n"
     ]
    }
   ],
   "source": [
    "maaslar = [1000,2000,3000,4000,5000]\n",
    "def zamcik(x):\n",
    "    if x<3000:\n",
    "        print((x*40/100)+x)\n",
    "    elif x==3000:\n",
    "        print((x*30/100)+x)\n",
    "    else:\n",
    "        print((x*20/100)+x)\n",
    "\n",
    "for i in maaslar:\n",
    "    if i<3000:\n",
    "        zamcik(i)\n",
    "    elif i == 3000:\n",
    "        zamcik(i)\n",
    "    else:\n",
    "        zamcik(i)"
   ]
  },
  {
   "cell_type": "code",
   "execution_count": 34,
   "id": "478bf160",
   "metadata": {},
   "outputs": [
    {
     "name": "stdout",
     "output_type": "stream",
     "text": [
      "1000\n",
      "1000\n",
      "2000\n",
      "kesildi\n"
     ]
    }
   ],
   "source": [
    "# break & cotiune\n",
    "maaslar = [8000,5000,2000,1000,3000,7000,1000]\n",
    "maaslar.sort()\n",
    "\n",
    "for i in maaslar:\n",
    "    if i==3000:\n",
    "        print(\"kesildi\")\n",
    "        break\n",
    "    print(i)\n",
    "    \n",
    "    "
   ]
  },
  {
   "cell_type": "code",
   "execution_count": 35,
   "id": "1daac88e",
   "metadata": {},
   "outputs": [
    {
     "name": "stdout",
     "output_type": "stream",
     "text": [
      "1000\n",
      "1000\n",
      "2000\n",
      "5000\n",
      "7000\n",
      "8000\n"
     ]
    }
   ],
   "source": [
    "for i in maaslar:\n",
    "    if i==3000:\n",
    "        continue\n",
    "    print(i)"
   ]
  },
  {
   "cell_type": "markdown",
   "id": "d9d54fca",
   "metadata": {},
   "source": [
    "### while döndüsü\n"
   ]
  },
  {
   "cell_type": "code",
   "execution_count": 38,
   "id": "38ae800b",
   "metadata": {},
   "outputs": [
    {
     "name": "stdout",
     "output_type": "stream",
     "text": [
      "2\n",
      "3\n",
      "4\n",
      "5\n",
      "6\n",
      "7\n",
      "8\n",
      "9\n",
      "10\n"
     ]
    }
   ],
   "source": [
    "sayi = 1 \n",
    "\n",
    "while sayi <10:\n",
    "    sayi +=1\n",
    "    print(sayi)"
   ]
  },
  {
   "cell_type": "code",
   "execution_count": null,
   "id": "c2ba16fc",
   "metadata": {},
   "outputs": [],
   "source": []
  }
 ],
 "metadata": {
  "kernelspec": {
   "display_name": "Python 3 (ipykernel)",
   "language": "python",
   "name": "python3"
  },
  "language_info": {
   "codemirror_mode": {
    "name": "ipython",
    "version": 3
   },
   "file_extension": ".py",
   "mimetype": "text/x-python",
   "name": "python",
   "nbconvert_exporter": "python",
   "pygments_lexer": "ipython3",
   "version": "3.9.12"
  }
 },
 "nbformat": 4,
 "nbformat_minor": 5
}
